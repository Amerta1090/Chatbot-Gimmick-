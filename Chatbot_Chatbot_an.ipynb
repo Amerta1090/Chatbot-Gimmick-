{
  "nbformat": 4,
  "nbformat_minor": 0,
  "metadata": {
    "colab": {
      "provenance": []
    },
    "kernelspec": {
      "name": "python3",
      "display_name": "Python 3"
    },
    "language_info": {
      "name": "python"
    }
  },
  "cells": [
    {
      "cell_type": "code",
      "source": [
        "import nltk\n",
        "nltk.download('punkt_tab')\n",
        "from nltk.tokenize import sent_tokenize\n",
        "# Teks panjang biografi Gus Dur\n",
        "text = \"\"\"\n",
        "Abdurrahman Wahid, yang lebih dikenal sebagai Gus Dur, adalah salah satu tokoh besar Indonesia. Ia lahir pada 7 September 1940 di Jombang, Jawa Timur. Gus Dur adalah putra dari pasangan Wahid Hasyim dan Solichah, dan ia berasal dari keluarga yang sangat berpengaruh di Nahdlatul Ulama (NU), salah satu organisasi Islam terbesar di Indonesia. Sejak kecil, Gus Dur sudah menunjukkan kecerdasan luar biasa. Ia menghabiskan sebagian besar masa kecilnya di lingkungan pesantren.\n",
        "\n",
        "Setelah menyelesaikan pendidikan dasar, Gus Dur melanjutkan studi ke berbagai institusi pendidikan, termasuk Universitas Al Azhar di Mesir dan Universitas Baghdad di Irak. Di sana, ia memperluas wawasannya tentang Islam, politik, dan kebudayaan global. Gus Dur dikenal sebagai pembaca yang rakus, dan minatnya terhadap sastra serta seni membuatnya menjadi seorang intelektual yang multidimensional.\n",
        "\n",
        "Gus Dur memulai kariernya di NU sebagai seorang pemikir muda. Ia membawa banyak perubahan progresif dalam organisasi tersebut. Pada 1984, ia terpilih sebagai Ketua Umum PBNU dan berhasil mereformasi NU dengan memisahkannya dari politik praktis. Langkah ini dianggap sebagai upaya untuk mengembalikan NU ke khitahnya sebagai organisasi sosial keagamaan.\n",
        "\n",
        "Puncak karier Gus Dur terjadi ketika ia menjabat sebagai Presiden Indonesia ke-4 pada tahun 1999. Selama masa kepemimpinannya, Gus Dur dikenal sebagai tokoh yang memperjuangkan pluralisme dan demokrasi. Meski masa pemerintahannya singkat, hanya berlangsung hingga 2001, Gus Dur meninggalkan warisan yang kuat dalam bidang toleransi beragama, hak asasi manusia, dan keberagaman.\n",
        "\n",
        "Selain sebagai seorang politisi, Gus Dur juga dikenal sebagai penulis dan pengamat budaya. Ia sering menulis artikel tentang isu-isu sosial, politik, dan keagamaan. Humor khasnya membuat banyak orang merasa dekat dengannya, meskipun ia kerap mengutarakan kritik yang tajam terhadap berbagai pihak.\n",
        "\n",
        "Gus Dur wafat pada 30 Desember 2009, meninggalkan duka mendalam bagi bangsa Indonesia. Ia dikenang sebagai seorang tokoh yang penuh cinta kasih dan keberanian untuk membela kebenaran. Hingga kini, warisan pemikiran dan perjuangannya terus menjadi inspirasi bagi banyak orang.\n",
        "\"\"\"\n",
        "\n",
        "# Tokenisasi kalimat menggunakan NLTK\n",
        "sentences = sent_tokenize(text)\n",
        "\n",
        "# Chunking menggunakan metode Overlap + Boundary-Aware\n",
        "chunk_size = 2  # Jumlah kalimat per chunk, diubah menjadi 2 agar ada perbedaan dengan overlap_size\n",
        "overlap_size = 1  # Jumlah kalimat overlap antar chunk\n",
        "chunks = []\n",
        "\n",
        "# Perbaikan: chunk_size - overlap_size sekarang tidak lagi 0\n",
        "for i in range(0, len(sentences), chunk_size - overlap_size):\n",
        "    chunk = sentences[i:i + chunk_size]\n",
        "    chunks.append(\" \".join(chunk))\n",
        "\n",
        "# Tampilkan hasil chunk\n",
        "for i, chunk in enumerate(chunks):\n",
        "    print(f\"Chunk {i + 1}:\\n{chunk}\\n\")"
      ],
      "metadata": {
        "colab": {
          "base_uri": "https://localhost:8080/"
        },
        "id": "Z0t_w035_4co",
        "outputId": "0c42be70-ed43-49dc-9751-c5b8a00917ac"
      },
      "execution_count": 8,
      "outputs": [
        {
          "output_type": "stream",
          "name": "stdout",
          "text": [
            "Chunk 1:\n",
            "\n",
            "Abdurrahman Wahid, yang lebih dikenal sebagai Gus Dur, adalah salah satu tokoh besar Indonesia. Ia lahir pada 7 September 1940 di Jombang, Jawa Timur.\n",
            "\n",
            "Chunk 2:\n",
            "Ia lahir pada 7 September 1940 di Jombang, Jawa Timur. Gus Dur adalah putra dari pasangan Wahid Hasyim dan Solichah, dan ia berasal dari keluarga yang sangat berpengaruh di Nahdlatul Ulama (NU), salah satu organisasi Islam terbesar di Indonesia.\n",
            "\n",
            "Chunk 3:\n",
            "Gus Dur adalah putra dari pasangan Wahid Hasyim dan Solichah, dan ia berasal dari keluarga yang sangat berpengaruh di Nahdlatul Ulama (NU), salah satu organisasi Islam terbesar di Indonesia. Sejak kecil, Gus Dur sudah menunjukkan kecerdasan luar biasa.\n",
            "\n",
            "Chunk 4:\n",
            "Sejak kecil, Gus Dur sudah menunjukkan kecerdasan luar biasa. Ia menghabiskan sebagian besar masa kecilnya di lingkungan pesantren.\n",
            "\n",
            "Chunk 5:\n",
            "Ia menghabiskan sebagian besar masa kecilnya di lingkungan pesantren. Setelah menyelesaikan pendidikan dasar, Gus Dur melanjutkan studi ke berbagai institusi pendidikan, termasuk Universitas Al Azhar di Mesir dan Universitas Baghdad di Irak.\n",
            "\n",
            "Chunk 6:\n",
            "Setelah menyelesaikan pendidikan dasar, Gus Dur melanjutkan studi ke berbagai institusi pendidikan, termasuk Universitas Al Azhar di Mesir dan Universitas Baghdad di Irak. Di sana, ia memperluas wawasannya tentang Islam, politik, dan kebudayaan global.\n",
            "\n",
            "Chunk 7:\n",
            "Di sana, ia memperluas wawasannya tentang Islam, politik, dan kebudayaan global. Gus Dur dikenal sebagai pembaca yang rakus, dan minatnya terhadap sastra serta seni membuatnya menjadi seorang intelektual yang multidimensional.\n",
            "\n",
            "Chunk 8:\n",
            "Gus Dur dikenal sebagai pembaca yang rakus, dan minatnya terhadap sastra serta seni membuatnya menjadi seorang intelektual yang multidimensional. Gus Dur memulai kariernya di NU sebagai seorang pemikir muda.\n",
            "\n",
            "Chunk 9:\n",
            "Gus Dur memulai kariernya di NU sebagai seorang pemikir muda. Ia membawa banyak perubahan progresif dalam organisasi tersebut.\n",
            "\n",
            "Chunk 10:\n",
            "Ia membawa banyak perubahan progresif dalam organisasi tersebut. Pada 1984, ia terpilih sebagai Ketua Umum PBNU dan berhasil mereformasi NU dengan memisahkannya dari politik praktis.\n",
            "\n",
            "Chunk 11:\n",
            "Pada 1984, ia terpilih sebagai Ketua Umum PBNU dan berhasil mereformasi NU dengan memisahkannya dari politik praktis. Langkah ini dianggap sebagai upaya untuk mengembalikan NU ke khitahnya sebagai organisasi sosial keagamaan.\n",
            "\n",
            "Chunk 12:\n",
            "Langkah ini dianggap sebagai upaya untuk mengembalikan NU ke khitahnya sebagai organisasi sosial keagamaan. Puncak karier Gus Dur terjadi ketika ia menjabat sebagai Presiden Indonesia ke-4 pada tahun 1999.\n",
            "\n",
            "Chunk 13:\n",
            "Puncak karier Gus Dur terjadi ketika ia menjabat sebagai Presiden Indonesia ke-4 pada tahun 1999. Selama masa kepemimpinannya, Gus Dur dikenal sebagai tokoh yang memperjuangkan pluralisme dan demokrasi.\n",
            "\n",
            "Chunk 14:\n",
            "Selama masa kepemimpinannya, Gus Dur dikenal sebagai tokoh yang memperjuangkan pluralisme dan demokrasi. Meski masa pemerintahannya singkat, hanya berlangsung hingga 2001, Gus Dur meninggalkan warisan yang kuat dalam bidang toleransi beragama, hak asasi manusia, dan keberagaman.\n",
            "\n",
            "Chunk 15:\n",
            "Meski masa pemerintahannya singkat, hanya berlangsung hingga 2001, Gus Dur meninggalkan warisan yang kuat dalam bidang toleransi beragama, hak asasi manusia, dan keberagaman. Selain sebagai seorang politisi, Gus Dur juga dikenal sebagai penulis dan pengamat budaya.\n",
            "\n",
            "Chunk 16:\n",
            "Selain sebagai seorang politisi, Gus Dur juga dikenal sebagai penulis dan pengamat budaya. Ia sering menulis artikel tentang isu-isu sosial, politik, dan keagamaan.\n",
            "\n",
            "Chunk 17:\n",
            "Ia sering menulis artikel tentang isu-isu sosial, politik, dan keagamaan. Humor khasnya membuat banyak orang merasa dekat dengannya, meskipun ia kerap mengutarakan kritik yang tajam terhadap berbagai pihak.\n",
            "\n",
            "Chunk 18:\n",
            "Humor khasnya membuat banyak orang merasa dekat dengannya, meskipun ia kerap mengutarakan kritik yang tajam terhadap berbagai pihak. Gus Dur wafat pada 30 Desember 2009, meninggalkan duka mendalam bagi bangsa Indonesia.\n",
            "\n",
            "Chunk 19:\n",
            "Gus Dur wafat pada 30 Desember 2009, meninggalkan duka mendalam bagi bangsa Indonesia. Ia dikenang sebagai seorang tokoh yang penuh cinta kasih dan keberanian untuk membela kebenaran.\n",
            "\n",
            "Chunk 20:\n",
            "Ia dikenang sebagai seorang tokoh yang penuh cinta kasih dan keberanian untuk membela kebenaran. Hingga kini, warisan pemikiran dan perjuangannya terus menjadi inspirasi bagi banyak orang.\n",
            "\n",
            "Chunk 21:\n",
            "Hingga kini, warisan pemikiran dan perjuangannya terus menjadi inspirasi bagi banyak orang.\n",
            "\n"
          ]
        },
        {
          "output_type": "stream",
          "name": "stderr",
          "text": [
            "[nltk_data] Downloading package punkt_tab to /root/nltk_data...\n",
            "[nltk_data]   Package punkt_tab is already up-to-date!\n"
          ]
        }
      ]
    },
    {
      "cell_type": "code",
      "source": [
        "from sklearn.metrics.pairwise import cosine_similarity\n",
        "from sklearn.feature_extraction.text import TfidfVectorizer\n",
        "\n",
        "# Fungsi chatbot\n",
        "def chatbot(question, chunks):\n",
        "    # Gabungkan chunks untuk pencocokan dengan pertanyaan\n",
        "    all_texts = chunks + [question]\n",
        "    vectorizer = TfidfVectorizer().fit_transform(all_texts)\n",
        "    vectors = vectorizer.toarray()\n",
        "\n",
        "    # Hitung kemiripan cosine\n",
        "    similarities = cosine_similarity([vectors[-1]], vectors[:-1])\n",
        "    best_match_idx = similarities[0].argmax()\n",
        "    best_chunk = chunks[best_match_idx]\n",
        "\n",
        "    return best_chunk\n",
        "\n",
        "# Simulasi interaksi chatbot\n",
        "print(\"Chatbot Gus Dur - Tanya Apa Saja!\")\n",
        "while True:\n",
        "    question = input(\"Kamu: \")\n",
        "    if question.lower() in [\"exit\", \"keluar\"]:\n",
        "        print(\"Chatbot: Terima kasih sudah bertanya! 😊\")\n",
        "        break\n",
        "    response = chatbot(question, chunks)\n",
        "    print(f\"Chatbot: {response}\")\n"
      ],
      "metadata": {
        "colab": {
          "base_uri": "https://localhost:8080/"
        },
        "id": "29YSLkOhBc64",
        "outputId": "dc1de125-02d2-4df3-c441-8d677cae054a"
      },
      "execution_count": 9,
      "outputs": [
        {
          "output_type": "stream",
          "name": "stdout",
          "text": [
            "Chatbot Gus Dur - Tanya Apa Saja!\n",
            "Kamu: kapan gus dur wafat\n",
            "Chatbot: Gus Dur wafat pada 30 Desember 2009, meninggalkan duka mendalam bagi bangsa Indonesia. Ia dikenang sebagai seorang tokoh yang penuh cinta kasih dan keberanian untuk membela kebenaran.\n",
            "Kamu: siapa itu gus dur?\n",
            "Chatbot: Puncak karier Gus Dur terjadi ketika ia menjabat sebagai Presiden Indonesia ke-4 pada tahun 1999. Selama masa kepemimpinannya, Gus Dur dikenal sebagai tokoh yang memperjuangkan pluralisme dan demokrasi.\n",
            "Kamu: dimana gus dur lahir?\n",
            "Chatbot: \n",
            "Abdurrahman Wahid, yang lebih dikenal sebagai Gus Dur, adalah salah satu tokoh besar Indonesia. Ia lahir pada 7 September 1940 di Jombang, Jawa Timur.\n",
            "Kamu: exit\n",
            "Chatbot: Terima kasih sudah bertanya! 😊\n"
          ]
        }
      ]
    }
  ]
}